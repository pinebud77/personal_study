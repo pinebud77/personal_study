{
 "cells": [
  {
   "cell_type": "markdown",
   "metadata": {},
   "source": [
    "# 4. Recursion"
   ]
  },
  {
   "cell_type": "markdown",
   "metadata": {},
   "source": [
    "## 4.1 Factorial"
   ]
  },
  {
   "cell_type": "code",
   "execution_count": 3,
   "metadata": {},
   "outputs": [
    {
     "data": {
      "text/plain": [
       "120"
      ]
     },
     "execution_count": 3,
     "metadata": {},
     "output_type": "execute_result"
    }
   ],
   "source": [
    "def factorial(n):\n",
    "    if n == 0:\n",
    "        return 1\n",
    "    else:\n",
    "        return n * factorial(n-1)\n",
    "\n",
    "factorial(5)"
   ]
  },
  {
   "cell_type": "markdown",
   "metadata": {},
   "source": [
    "## 4.1.2 English Ruler"
   ]
  },
  {
   "cell_type": "code",
   "execution_count": 11,
   "metadata": {},
   "outputs": [
    {
     "name": "stdout",
     "output_type": "stream",
     "text": [
      "---- 0\n",
      "-\n",
      "--\n",
      "-\n",
      "---\n",
      "-\n",
      "--\n",
      "-\n",
      "---- 1\n",
      "-\n",
      "--\n",
      "-\n",
      "---\n",
      "-\n",
      "--\n",
      "-\n",
      "---- 2\n"
     ]
    }
   ],
   "source": [
    "def draw_line(tick_length, tick_label=''):\n",
    "    line = '-' * tick_length\n",
    "    if tick_label:\n",
    "        line += ' ' + tick_label\n",
    "    print(line)\n",
    "\n",
    "    \n",
    "def draw_interval(center_length):\n",
    "    if center_length > 0:\n",
    "        draw_interval(center_length - 1)\n",
    "        draw_line(center_length)\n",
    "        draw_interval(center_length - 1)\n",
    "        \n",
    "        \n",
    "def draw_ruler(num_inches, major_length):\n",
    "    draw_line(major_length, '0')\n",
    "    for j in range(1, 1 + num_inches):\n",
    "        draw_interval(major_length - 1)\n",
    "        draw_line(major_length, str(j))\n",
    "        \n",
    "\n",
    "draw_ruler(2, 4)"
   ]
  },
  {
   "cell_type": "markdown",
   "metadata": {},
   "source": [
    "## 4.1.3 Binary Search"
   ]
  },
  {
   "cell_type": "code",
   "execution_count": 13,
   "metadata": {},
   "outputs": [
    {
     "name": "stdout",
     "output_type": "stream",
     "text": [
      "True\n",
      "False\n"
     ]
    }
   ],
   "source": [
    "def binary_search(data, target, low, high):\n",
    "    if low > high:\n",
    "        return False\n",
    "    else:\n",
    "        mid = (low + high) // 2\n",
    "        if target == data[mid]:\n",
    "            return True\n",
    "        elif target < data[mid]:\n",
    "            return binary_search(data, target, low, mid - 1)\n",
    "        else:\n",
    "            return binary_search(data, target, mid + 1, high)\n",
    "\n",
    "data = [1, 2, 3, 4, 5, 6, 7, 8, 10, 23, 33]\n",
    "print (binary_search(data, 10, 0, len(data)))\n",
    "print (binary_search(data, 12, 0, len(data)))"
   ]
  },
  {
   "cell_type": "markdown",
   "metadata": {},
   "source": [
    "# 4.7 Exercises"
   ]
  },
  {
   "cell_type": "markdown",
   "metadata": {},
   "source": [
    "## R-4.1"
   ]
  },
  {
   "cell_type": "markdown",
   "metadata": {},
   "source": [
    "Sort the sequence and apply the binary search<br>\n",
    "sort : O(?)<br>\n",
    "Binary Search : O(log n)\n"
   ]
  },
  {
   "cell_type": "markdown",
   "metadata": {},
   "source": [
    "# Creativity"
   ]
  },
  {
   "cell_type": "markdown",
   "metadata": {},
   "source": [
    "## C-4.9"
   ]
  },
  {
   "cell_type": "code",
   "execution_count": 4,
   "metadata": {},
   "outputs": [
    {
     "name": "stdout",
     "output_type": "stream",
     "text": [
      "[15, 7, 22, 12, 39, 50, 59, 22, 5, 35]\n",
      "(5, 59)\n"
     ]
    }
   ],
   "source": [
    "import random\n",
    "\n",
    "\n",
    "def get_minmax(s, start, finish):\n",
    "    mid = (start + finish) // 2\n",
    "    \n",
    "    if (mid != start):\n",
    "        (min1, max1) = get_minmax(s, start, mid - 1)\n",
    "    else:\n",
    "        (min1, max1) = (s[start], s[start])\n",
    "        \n",
    "    if (mid != finish):\n",
    "        (min2, max2) = get_minmax(s, mid + 1, finish)\n",
    "    else:\n",
    "        (min2, max2) = (s[start], s[start])\n",
    "    \n",
    "    if min1 > min2:\n",
    "        min_val = min2\n",
    "    else:\n",
    "        min_val = min1\n",
    "        \n",
    "    if max1 > max2:\n",
    "        max_val = max1\n",
    "    else:\n",
    "        max_val = max2\n",
    "    \n",
    "    if s[mid] > max_val:\n",
    "        max_val = s[mid]\n",
    "    if s[mid] < min_val:\n",
    "        min_val = s[mid]\n",
    "    \n",
    "    return (min_val, max_val)\n",
    "\n",
    "\n",
    "s = []\n",
    "for n in range(10):\n",
    "    s.append(random.randrange(100))\n",
    "    \n",
    "print(s)\n",
    "print(get_minmax(s, 0, len(s) - 1))\n",
    "    "
   ]
  },
  {
   "cell_type": "markdown",
   "metadata": {},
   "source": [
    "# C-4.10"
   ]
  },
  {
   "cell_type": "markdown",
   "metadata": {},
   "source": [
    "f n = 1: log(n) = 0<br>\n",
    "if n = 2: log(n) = 1<br>\n",
    "if n = 3: log(n) = 1.???<br>\n",
    "if n = 4: log(n) = 2<br>"
   ]
  },
  {
   "cell_type": "code",
   "execution_count": 6,
   "metadata": {},
   "outputs": [
    {
     "name": "stdout",
     "output_type": "stream",
     "text": [
      "0\n",
      "1\n",
      "1\n",
      "2\n",
      "2\n",
      "2\n",
      "2\n",
      "3\n",
      "3\n",
      "3\n",
      "3\n"
     ]
    }
   ],
   "source": [
    "def get_logint(n):\n",
    "    if n < 2:\n",
    "        return 0\n",
    "    \n",
    "    if n // 2:\n",
    "        return get_logint(n // 2) + 1\n",
    "\n",
    "for n in (1, 2, 3, 4, 5, 6, 7, 8, 9, 10, 11):\n",
    "    print(get_logint(n))"
   ]
  },
  {
   "cell_type": "markdown",
   "metadata": {},
   "source": [
    "# C-4.11"
   ]
  },
  {
   "cell_type": "code",
   "execution_count": 6,
   "metadata": {},
   "outputs": [
    {
     "name": "stdout",
     "output_type": "stream",
     "text": [
      "(1, 1, 3, 2, 5, 3, 2)\n",
      "False\n",
      "\n",
      "(1, 2, 3, 4, 5, 6, 7)\n",
      "True\n",
      "\n"
     ]
    }
   ],
   "source": [
    "def is_all_unique_r(s, target, next):\n",
    "    if next == len(s):\n",
    "        return True\n",
    "    \n",
    "    if target == s[next]:\n",
    "        return False\n",
    "    \n",
    "    if not is_all_unique_r(s, target, next + 1):\n",
    "        return False\n",
    "    \n",
    "    if not is_all_unique_r(s, s[next], next + 1):\n",
    "        return False\n",
    "    \n",
    "    return True\n",
    "\n",
    "for s in ((1, 1, 3, 2, 5, 3, 2), (1, 2, 3, 4, 5, 6, 7)) :\n",
    "    print(s)\n",
    "    print(is_all_unique_r(s, s[0], 1))\n",
    "    print()\n",
    "    \n",
    "    "
   ]
  },
  {
   "cell_type": "markdown",
   "metadata": {},
   "source": [
    "## C-4.12"
   ]
  },
  {
   "cell_type": "code",
   "execution_count": 10,
   "metadata": {},
   "outputs": [
    {
     "name": "stdout",
     "output_type": "stream",
     "text": [
      "4 * 3 = 12\n",
      "0 * 0 = 0\n",
      "6 * 0 = 0\n"
     ]
    }
   ],
   "source": [
    "def product(m, n):\n",
    "    if n == 0:\n",
    "        return 0\n",
    "    \n",
    "    return m + product(m, n - 1)\n",
    "\n",
    "for (m, n) in ((4, 3), (0, 0), (6, 0)):\n",
    "    print('%d * %d = %d' % (m, n, product(m, n)))"
   ]
  },
  {
   "cell_type": "markdown",
   "metadata": {},
   "source": [
    "## C-4.13"
   ]
  },
  {
   "cell_type": "markdown",
   "metadata": {},
   "source": [
    "not a code"
   ]
  },
  {
   "cell_type": "markdown",
   "metadata": {},
   "source": [
    "## C-4.14"
   ]
  },
  {
   "cell_type": "markdown",
   "metadata": {},
   "source": [
    "???"
   ]
  },
  {
   "cell_type": "markdown",
   "metadata": {},
   "source": [
    "## C-4.15"
   ]
  },
  {
   "cell_type": "markdown",
   "metadata": {},
   "source": [
    "??"
   ]
  },
  {
   "cell_type": "markdown",
   "metadata": {},
   "source": [
    "## C-4.16"
   ]
  },
  {
   "cell_type": "code",
   "execution_count": 2,
   "metadata": {},
   "outputs": [
    {
     "name": "stdout",
     "output_type": "stream",
     "text": [
      "snap&stop"
     ]
    }
   ],
   "source": [
    "def print_end(st, pos):\n",
    "    if pos == len(st):\n",
    "        return\n",
    "    \n",
    "    print_end(st, pos + 1)\n",
    "    print(st[pos], end='')\n",
    "    \n",
    "\n",
    "print_end('pots&pans', 0)"
   ]
  },
  {
   "cell_type": "markdown",
   "metadata": {},
   "source": [
    "## C-4.17"
   ]
  },
  {
   "cell_type": "code",
   "execution_count": 9,
   "metadata": {},
   "outputs": [
    {
     "name": "stdout",
     "output_type": "stream",
     "text": [
      "gohangasalamiimalasagnahog: True\n",
      "goggog: True\n",
      "hello there: False\n"
     ]
    }
   ],
   "source": [
    "def is_pand_r(s, pos):\n",
    "    if pos > len(s) / 2:\n",
    "        return True\n",
    "    \n",
    "    if s[pos] != s[-pos - 1]:\n",
    "        return False\n",
    "    \n",
    "    return is_pand_r(s, pos + 1)\n",
    "\n",
    "\n",
    "for s in ('gohangasalamiimalasagnahog', 'goggog', 'hello there'):\n",
    "    print('%s: %r' % (s, is_pand_r(s, 0)))"
   ]
  },
  {
   "cell_type": "markdown",
   "metadata": {},
   "source": [
    "## C-4.18"
   ]
  },
  {
   "cell_type": "code",
   "execution_count": 5,
   "metadata": {},
   "outputs": [
    {
     "name": "stdout",
     "output_type": "stream",
     "text": [
      "hellothere: False\n",
      "hedeeeovika: True\n"
     ]
    }
   ],
   "source": [
    "def count_vc(s, pos):\n",
    "    if pos == len(s):\n",
    "        return (0, 0)\n",
    "    \n",
    "    (v, c) = count_vc(s, pos + 1)\n",
    "    if s[pos] in 'aeiouy':\n",
    "        v += 1\n",
    "    else:\n",
    "        c += 1\n",
    "        \n",
    "    return (v, c)\n",
    "\n",
    "def is_v_bigger(s):\n",
    "    (v, c) = count_vc(s, 0)\n",
    "    \n",
    "    return v > c\n",
    "\n",
    "s = 'hellothere'\n",
    "print('%s: %r' % (s, is_v_bigger(s)))\n",
    "\n",
    "s = 'hedeeeovika'\n",
    "print('%s: %r' % (s, is_v_bigger(s)))"
   ]
  },
  {
   "cell_type": "markdown",
   "metadata": {},
   "source": [
    "## C-4.19"
   ]
  },
  {
   "cell_type": "code",
   "execution_count": 8,
   "metadata": {},
   "outputs": [
    {
     "name": "stdout",
     "output_type": "stream",
     "text": [
      "[6, 4, 2, 1, 3, 5, 7]\n"
     ]
    }
   ],
   "source": [
    "def even_first_r(s):\n",
    "    if len(s) == 1:\n",
    "        return s\n",
    "    \n",
    "    res = even_first_r(s[:-1])\n",
    "    \n",
    "    if s[-1] % 2 == 0:\n",
    "        res.insert(0, s[-1])\n",
    "    else:\n",
    "        res.append(s[-1])\n",
    "    \n",
    "    return res\n",
    "\n",
    "\n",
    "print(even_first_r([1, 2, 3, 4, 5, 6, 7]))"
   ]
  },
  {
   "cell_type": "markdown",
   "metadata": {},
   "source": [
    "## C-4.20"
   ]
  },
  {
   "cell_type": "code",
   "execution_count": 9,
   "metadata": {},
   "outputs": [
    {
     "name": "stdout",
     "output_type": "stream",
     "text": [
      "[1, 2, 3, 3, 2, 1, 4, 5, 6, 7, 8, 7, 6, 5, 4]\n"
     ]
    }
   ],
   "source": [
    "def over_k_later_r(s, k):\n",
    "    if len(s) == 1:\n",
    "        return s\n",
    "    \n",
    "    res = over_k_later_r(s[:-1], k)\n",
    "    \n",
    "    if s[-1] <= k:\n",
    "        res.insert(0, s[-1])\n",
    "    else:\n",
    "        res.append(s[-1])\n",
    "        \n",
    "    return res\n",
    "\n",
    "print(over_k_later_r([1, 2, 3, 4, 5, 6, 7, 8, 7, 6, 5, 4, 3, 2, 1], 3))"
   ]
  },
  {
   "cell_type": "markdown",
   "metadata": {},
   "source": [
    "time complexity : depends on the overhead of insert operation<br>\n",
    "worst case : with n components, n insert operation"
   ]
  },
  {
   "cell_type": "markdown",
   "metadata": {},
   "source": [
    "## C-4.21"
   ]
  },
  {
   "cell_type": "code",
   "execution_count": null,
   "metadata": {},
   "outputs": [],
   "source": []
  }
 ],
 "metadata": {
  "kernelspec": {
   "display_name": "Python 3",
   "language": "python",
   "name": "python3"
  },
  "language_info": {
   "codemirror_mode": {
    "name": "ipython",
    "version": 3
   },
   "file_extension": ".py",
   "mimetype": "text/x-python",
   "name": "python",
   "nbconvert_exporter": "python",
   "pygments_lexer": "ipython3",
   "version": "3.6.5"
  }
 },
 "nbformat": 4,
 "nbformat_minor": 2
}
