{
 "cells": [
  {
   "cell_type": "markdown",
   "metadata": {},
   "source": [
    "# remarkable special methods\n",
    "string/bytes representation : __repr__, __str__ \n",
    "\n",
    "conversion to number : __bool__\n",
    "\n",
    "emulation collections : __len__, __getitem__, __setitem__, __delitem__, __contains__\n",
    "\n",
    "Unary numberic operatiors : __neg__, __pos__, __abs__\n",
    "\n",
    "arithmetic opertors : __add__, __sub__, __mul__, __truediv__ /, __floordiv__ //"
   ]
  },
  {
   "cell_type": "code",
   "execution_count": null,
   "metadata": {},
   "outputs": [],
   "source": []
  }
 ],
 "metadata": {
  "kernelspec": {
   "display_name": "Python 3",
   "language": "python",
   "name": "python3"
  },
  "language_info": {
   "codemirror_mode": {
    "name": "ipython",
    "version": 3
   },
   "file_extension": ".py",
   "mimetype": "text/x-python",
   "name": "python",
   "nbconvert_exporter": "python",
   "pygments_lexer": "ipython3",
   "version": "3.6.5"
  }
 },
 "nbformat": 4,
 "nbformat_minor": 2
}
